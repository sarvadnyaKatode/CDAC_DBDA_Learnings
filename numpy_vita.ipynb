{
  "nbformat": 4,
  "nbformat_minor": 0,
  "metadata": {
    "colab": {
      "provenance": [],
      "authorship_tag": "ABX9TyNdy1JLaXgMf0ctKqauKGzE"
    },
    "kernelspec": {
      "name": "python3",
      "display_name": "Python 3"
    },
    "language_info": {
      "name": "python"
    }
  },
  "cells": [
    {
      "cell_type": "code",
      "execution_count": null,
      "metadata": {
        "id": "DOrmwweBGs7Y"
      },
      "outputs": [],
      "source": [
        "import numpy as np\n"
      ]
    },
    {
      "cell_type": "code",
      "source": [
        "# creating an array\n",
        "first = np.array ([1,2,3,4,6,5,7])\n",
        "print (first)\n",
        "print(type(first))"
      ],
      "metadata": {
        "id": "399tnePkG991",
        "colab": {
          "base_uri": "https://localhost:8080/"
        },
        "outputId": "f19a2f0d-bc88-429f-855e-90e12e14f241"
      },
      "execution_count": null,
      "outputs": [
        {
          "output_type": "stream",
          "name": "stdout",
          "text": [
            "[1 2 3 4 6 5 7]\n",
            "<class 'numpy.ndarray'>\n"
          ]
        }
      ]
    },
    {
      "cell_type": "code",
      "source": [
        "data = np.array([1,2,3,5,6,7])"
      ],
      "metadata": {
        "id": "8mnVE1D_nnLc"
      },
      "execution_count": null,
      "outputs": []
    },
    {
      "cell_type": "code",
      "source": [
        "a= np.mean(data)\n",
        "print(a)"
      ],
      "metadata": {
        "id": "U4nI-lcdQRah",
        "colab": {
          "base_uri": "https://localhost:8080/"
        },
        "outputId": "36d3fd81-5c12-488e-a779-13b451ebac01"
      },
      "execution_count": null,
      "outputs": [
        {
          "output_type": "stream",
          "name": "stdout",
          "text": [
            "4.0\n"
          ]
        }
      ]
    },
    {
      "cell_type": "code",
      "source": [
        "#shape of array\n",
        "print(first.shape)\n",
        "print(type(first.shape))"
      ],
      "metadata": {
        "id": "I7QpgL1bHKSa",
        "colab": {
          "base_uri": "https://localhost:8080/"
        },
        "outputId": "4a12b22f-4b7e-49b8-ac94-d844082c296e"
      },
      "execution_count": null,
      "outputs": [
        {
          "output_type": "stream",
          "name": "stdout",
          "text": [
            "(7,)\n",
            "<class 'tuple'>\n"
          ]
        }
      ]
    },
    {
      "cell_type": "code",
      "source": [
        "#dimension of array\n",
        "print(first.ndim)"
      ],
      "metadata": {
        "id": "uHkENb_cHW5-",
        "colab": {
          "base_uri": "https://localhost:8080/"
        },
        "outputId": "9779fd9a-1b0f-4342-c710-e1f9e2bf69af"
      },
      "execution_count": null,
      "outputs": [
        {
          "output_type": "stream",
          "name": "stdout",
          "text": [
            "1\n"
          ]
        }
      ]
    },
    {
      "cell_type": "code",
      "source": [
        "for i in range (0,first.__len__()):\n",
        "  print(first[i])"
      ],
      "metadata": {
        "id": "4V1bO1haHosm",
        "colab": {
          "base_uri": "https://localhost:8080/"
        },
        "outputId": "a5395204-1abf-43d5-bfbf-ac6e00131154"
      },
      "execution_count": null,
      "outputs": [
        {
          "output_type": "stream",
          "name": "stdout",
          "text": [
            "1\n",
            "2\n",
            "3\n",
            "4\n",
            "6\n",
            "5\n",
            "7\n"
          ]
        }
      ]
    },
    {
      "cell_type": "code",
      "source": [
        "#input diffrent datatype in array\n",
        "first=np.array([100,3.4,\"hello\",True])\n",
        "print(first)\n",
        "#print output one by one\n",
        "for i in range(0,first.__len__()):\n",
        "    print(first[i])"
      ],
      "metadata": {
        "id": "uRxfmKHOIKP2",
        "colab": {
          "base_uri": "https://localhost:8080/"
        },
        "outputId": "832714ec-0c47-452c-a18a-af088d904670"
      },
      "execution_count": null,
      "outputs": [
        {
          "output_type": "stream",
          "name": "stdout",
          "text": [
            "['100' '3.4' 'hello' 'True']\n",
            "100\n",
            "3.4\n",
            "hello\n",
            "True\n"
          ]
        }
      ]
    },
    {
      "cell_type": "code",
      "source": [
        "print(type(first))\n",
        "print(\"dimension of array is\\t\",first.ndim)\n",
        "print(\"shape of array is\\t\",first.shape)"
      ],
      "metadata": {
        "id": "ynP_S2euNYzL",
        "colab": {
          "base_uri": "https://localhost:8080/"
        },
        "outputId": "c69be2a7-3790-44d8-b116-9edf790a0aba"
      },
      "execution_count": null,
      "outputs": [
        {
          "output_type": "stream",
          "name": "stdout",
          "text": [
            "<class 'numpy.ndarray'>\n",
            "dimension of array is\t 1\n",
            "shape of array is\t (4,)\n"
          ]
        }
      ]
    },
    {
      "cell_type": "code",
      "source": [
        "#indexing in python\n",
        "arr1=np.array([10,20,30,40])\n",
        "print(arr1)\n",
        "print(arr1[0])\n",
        "print(arr1[-1])"
      ],
      "metadata": {
        "id": "UHdxAOHoNc8u",
        "colab": {
          "base_uri": "https://localhost:8080/"
        },
        "outputId": "23822988-24c6-4260-cde6-2de36b55065c"
      },
      "execution_count": null,
      "outputs": [
        {
          "output_type": "stream",
          "name": "stdout",
          "text": [
            "[10 20 30 40]\n",
            "10\n",
            "40\n"
          ]
        }
      ]
    },
    {
      "cell_type": "markdown",
      "source": [],
      "metadata": {
        "id": "qwuuwXVlTrOp"
      }
    },
    {
      "cell_type": "code",
      "source": [
        "print(\"from the begining\")\n",
        "for i in range(0,arr1.__len__()):\n",
        "    print(arr1[i])"
      ],
      "metadata": {
        "id": "QlrnEyz5NoyR"
      },
      "execution_count": null,
      "outputs": []
    },
    {
      "cell_type": "code",
      "source": [
        "print(\"from the end\")\n",
        "for i in range(-1,-(arr1.__len__()+1),-1):\n",
        "    print(arr1[i])"
      ],
      "metadata": {
        "id": "nRF6pjenNwh1"
      },
      "execution_count": null,
      "outputs": []
    },
    {
      "cell_type": "code",
      "source": [
        "first=np.arange(3)\n",
        "print(first)\n",
        "print(\"enter 3 numbers\")\n",
        "for i in range(0,first.__len__()):\n",
        "    first[i]=int(input())\n",
        "print(\"Displaying all the numbers\")\n",
        "for i in range(0,first.__len__()):\n",
        "    print(first[i])\n"
      ],
      "metadata": {
        "id": "_xBN1unxNyoz"
      },
      "execution_count": null,
      "outputs": []
    },
    {
      "cell_type": "code",
      "source": [
        "print(\"dimension of array is\\t\",first.ndim)\n",
        "print(\"shape of array is\\t\",first.shape)"
      ],
      "metadata": {
        "id": "oP35n_yvN-E_"
      },
      "execution_count": null,
      "outputs": []
    },
    {
      "cell_type": "code",
      "source": [
        "#creating an empty array\n",
        "empty_array = np.empty((3, 3))\n",
        "print(\"Empty Array:\")\n",
        "print(empty_array)"
      ],
      "metadata": {
        "id": "5lhAdmWaOM7z"
      },
      "execution_count": null,
      "outputs": []
    },
    {
      "cell_type": "code",
      "source": [
        "# Create a full array (all elements set to a specific value, e.g., 7)\n",
        "full_array = np.full((3, 3), 7)\n",
        "print(\"\\nFull Array:\")\n",
        "print(full_array)"
      ],
      "metadata": {
        "id": "5Jb3aKTIOd9j"
      },
      "execution_count": null,
      "outputs": []
    },
    {
      "cell_type": "code",
      "source": [
        "# Create an array\n",
        "arr = np.array([1, 2, 3])\n",
        "# Number of elements in the array\n",
        "size = arr.size\n",
        "print(arr)\n",
        "print(size)\n",
        "print(arr.ndim)\n",
        "print(arr.itemsize)# Length of one array element in bytes\n",
        "print(arr.nbytes)# Total bytes consumed by the elements"
      ],
      "metadata": {
        "id": "-7avulO-OnRM"
      },
      "execution_count": null,
      "outputs": []
    },
    {
      "cell_type": "code",
      "source": [
        "# Length of one array element in bytes\n",
        "item_size = arr.itemsize\n",
        "\n",
        "# Total bytes consumed by the elements\n",
        "total_bytes = arr.nbytes\n",
        "\n",
        "print(\"Size of the array:\", size)\n",
        "print(\"Length of one array element in bytes:\", item_size)\n",
        "print(\"Total bytes consumed by the elements of the array:\", total_bytes)\n"
      ],
      "metadata": {
        "id": "Jdbh_TTfOsmO"
      },
      "execution_count": null,
      "outputs": []
    },
    {
      "cell_type": "code",
      "source": [
        "#  here we've passed list of list\n",
        "first=np.array([[10,20,30],[40,50,60]])\n",
        "print(first)"
      ],
      "metadata": {
        "id": "GxeR1FRKO6ef",
        "colab": {
          "base_uri": "https://localhost:8080/"
        },
        "outputId": "5a061bff-3d15-434c-cd81-9a5cf2ee39d6"
      },
      "execution_count": null,
      "outputs": [
        {
          "output_type": "stream",
          "name": "stdout",
          "text": [
            "[[10 20 30]\n",
            " [40 50 60]]\n"
          ]
        }
      ]
    },
    {
      "cell_type": "code",
      "source": [
        "for i in range(0,first.__len__()):\n",
        "    for j in range(0,first[i].__len__()):\n",
        "        print(first[i][j],\"\\t\",end=\"\")\n",
        "    print(\"\\n\")\n",
        "\n",
        "print(\"Type of the array is\",type(first))\n",
        "print(\"dimension of array is\\t\",first.ndim)\n",
        "print(\"shape of array is\\t\",first.shape)"
      ],
      "metadata": {
        "id": "ZKpamvKkPo9B",
        "colab": {
          "base_uri": "https://localhost:8080/"
        },
        "outputId": "481ff5c1-7608-4db3-f75d-263dbdf9ba1f"
      },
      "execution_count": null,
      "outputs": [
        {
          "output_type": "stream",
          "name": "stdout",
          "text": [
            "10 \t20 \t30 \t\n",
            "\n",
            "40 \t50 \t60 \t\n",
            "\n",
            "Type of the array is <class 'numpy.ndarray'>\n",
            "dimension of array is\t 2\n",
            "shape of array is\t (2, 3)\n"
          ]
        }
      ]
    },
    {
      "cell_type": "code",
      "source": [
        "# how to accept values from user inside two-d array\n",
        "\n",
        "from numpy import *\n",
        "list=[]\n",
        "print(\"how many rows\")\n",
        "rownum=int(input())\n",
        "print(\"how many cols\")\n",
        "colnum=int((input()))\n",
        "print(\"Enter\\t\",rownum*colnum,\" values\")\n",
        "for i in range(1,(rownum*colnum)+1):\n",
        "        num=int(input())\n",
        "        list.append(num)\n",
        "\n",
        "\n"
      ],
      "metadata": {
        "id": "wquFkiRwPymD"
      },
      "execution_count": null,
      "outputs": []
    },
    {
      "cell_type": "code",
      "source": [
        "mainarray=array([list])\n",
        "print(mainarray)"
      ],
      "metadata": {
        "id": "dFWoI0fFQinS"
      },
      "execution_count": null,
      "outputs": []
    },
    {
      "cell_type": "code",
      "source": [
        "#reshape is used to reshape the list to conver  it to array\n",
        "mainarray=mainarray.reshape(rownum,colnum)\n",
        "\n",
        "print(mainarray)"
      ],
      "metadata": {
        "id": "Azmrui2sQLxi"
      },
      "execution_count": null,
      "outputs": []
    },
    {
      "cell_type": "code",
      "source": [
        "# initialize one-d array with zero\n",
        "first=np.zeros((1,4))                             # one row , 4 columns\n",
        "print(first)\n",
        "print(\"\\n\")\n",
        "\n",
        "# initialize two-d array with zeros\n",
        "\n",
        "second=np.zeros((3,4))                            # 3 rows and 4 columns\n",
        "\n",
        "print(second)"
      ],
      "metadata": {
        "id": "ox5I92gGQbH3"
      },
      "execution_count": null,
      "outputs": []
    },
    {
      "cell_type": "code",
      "source": [
        "# initialize one-d and 2d array  with one\n",
        "\n",
        "import numpy as np\n",
        "first=np.ones((1,4))                             # one row , 4 columns\n",
        "\n",
        "print(first)\n",
        "print(\"\\n\")\n",
        "\n",
        "# initialize two-d array with zeros\n",
        "\n",
        "second=np.ones((3,4))                            # 3 rows and 4 columns\n",
        "\n",
        "print(second)"
      ],
      "metadata": {
        "id": "qmrhS2BtQ6Js"
      },
      "execution_count": null,
      "outputs": []
    },
    {
      "cell_type": "code",
      "source": [],
      "metadata": {
        "id": "Qw6av1S77u1b"
      },
      "execution_count": null,
      "outputs": []
    },
    {
      "cell_type": "code",
      "source": [
        "# initialize arrays with a specific number\n",
        "\n",
        "import numpy as np\n",
        "\n",
        "first=np.full((1,4),20)         #  1 row, 4 columns , all should be initialized with 20\n",
        "print(first)\n",
        "\n",
        "print(\"\\n\")\n",
        "\n",
        "second=np.full((3,2),15)        #  3 rows, 2 columns, all should be initialized with 15\n",
        "print(second)"
      ],
      "metadata": {
        "id": "gF0YU5WPRGOy"
      },
      "execution_count": null,
      "outputs": []
    },
    {
      "cell_type": "code",
      "source": [
        "# arange to give range of numbers\n",
        "import numpy as np\n",
        "first=np.arange(20,25)    # here 25 is exclusive\n",
        "print(first)\n",
        "\n",
        "# start with 10, increment by 2 and here 20 is exclusive\n",
        "\n",
        "second=np.arange(10,20,2)\n",
        "print(second)\n",
        "\n"
      ],
      "metadata": {
        "id": "AqSUC5HPRKGr"
      },
      "execution_count": null,
      "outputs": []
    },
    {
      "cell_type": "code",
      "source": [
        "\"\"\" If you only use the arange function, it will output a\n",
        " one-dimensional array. To make it a two-dimensional array,\n",
        "  chain its output with the reshape function. \"\"\"\n",
        "\n",
        "import numpy as np\n",
        " # 3 rows,3 cols ,  10 to 90 values with 10 as a skip value\n",
        "first=np.arange(10,91,10).reshape(3,3)\n",
        "print(first)\n"
      ],
      "metadata": {
        "id": "22fWKpfmRc1F"
      },
      "execution_count": null,
      "outputs": []
    },
    {
      "cell_type": "code",
      "source": [
        "# array with strings and chars\n",
        "\n",
        "first=np.full((1,4),\"hello\")\n",
        "print(first)\n",
        "print(\"\\n\")\n",
        "second=np.array(['A','B','C','D','E','F'])\n",
        "print(second)\n",
        "print(\"\\n\")\n",
        "third=np.full((3,2),'A')\n",
        "print(third)"
      ],
      "metadata": {
        "id": "ipn___mFRjvp"
      },
      "execution_count": null,
      "outputs": []
    },
    {
      "cell_type": "code",
      "source": [
        "# initialize numpy array with random numbers\n",
        "import numpy as np\n",
        "\n",
        "# range for random numbers is 1 to 100 and 10\n",
        "# is how many random numbers to be generated\n",
        "\n",
        "first=np.random.randint(1,100,10)\n",
        "print(first)\n",
        "print(\"Double Dimension array\")\n",
        "\n",
        "second=np.random.randint(1,100,12).reshape(3,4)\n",
        "print(second)"
      ],
      "metadata": {
        "id": "Y64FgJhZSEMT"
      },
      "execution_count": null,
      "outputs": []
    },
    {
      "cell_type": "code",
      "source": [
        "\"\"\" randint() function generates new set of random numbers everytime. If we want to fix the generation of random numbers,\n",
        "we should use \"seed()\" function by passing any number as an argument. \"\"\"\n",
        "\n",
        "from numpy import *\n",
        "\n",
        "random.seed(15)    # this can be any number  , try commenting this\n",
        "\n",
        "first=random.randint(1,100,12)\n",
        "print(first)     # no matter how many times we execute the code, it will display same set of numbers\n",
        "print(\"size of the array is\\t\",first.size)\n",
        "\n"
      ],
      "metadata": {
        "id": "xozVpfQxSMVA"
      },
      "execution_count": null,
      "outputs": []
    },
    {
      "cell_type": "code",
      "source": [
        " # checking the shape of numpy array\n",
        "\n",
        "import numpy as np\n",
        "first=np.array([100,200,300,400,500,600])\n",
        "print(first)\n",
        "print(first.shape)\n",
        "\n",
        "print(\"let's check with double dimension array\")\n",
        "second=np.array([[10,20,30],[40,50,60]])\n",
        "print(second)\n",
        "print(second.shape)\n",
        "\n",
        "print(\"Let's convert one-d array's shapes\")\n",
        "first.shape=(2,3)\n",
        "print(first)\n",
        "print(\"Let's convert two-d array's shape\")\n",
        "second.shape=(3,2)\n",
        "print(second)\n",
        "print(second.ndim)"
      ],
      "metadata": {
        "id": "CGyo9X2hSygP"
      },
      "execution_count": null,
      "outputs": []
    },
    {
      "cell_type": "code",
      "source": [
        "#  \"intersect1d()\" to find out common elements between two arrays\n",
        "\n",
        "import numpy as np\n",
        "first=np.array([4,5,8,12,15])\n",
        "second=np.array([11,15,4,8,9])\n",
        "third=np.intersect1d(first,second)\n",
        "print(third)\n"
      ],
      "metadata": {
        "id": "obMs502CVK8G"
      },
      "execution_count": null,
      "outputs": []
    },
    {
      "cell_type": "code",
      "source": [
        "#  \"setdiff1d()\" to find out unique elements in first array\n",
        "# result is always sorted\n",
        "\n",
        "import numpy as np\n",
        "first=np.array([4,25,8,32,15])\n",
        "second=np.array([11,25,1,2,4,8,9])\n",
        "  #  unique elements inside \"first\"  array\n",
        "third=np.setdiff1d(first,second)\n",
        "print(third)\n",
        "print(\"\\n\")\n",
        "fourth=np.setdiff1d(second,first) # unique elements inside \"second\" array\n",
        "print(fourth)\n"
      ],
      "metadata": {
        "id": "MZiaApfoVPNl"
      },
      "execution_count": null,
      "outputs": []
    },
    {
      "cell_type": "code",
      "source": [
        "\n",
        "\n",
        "myarr=np.array([10,10,20,20,30,30])\n",
        "print(\"main array is\")\n",
        "print(myarr)\n",
        "myarr1=np.unique(myarr)\n",
        "print(\"unique value in array\",myarr1)"
      ],
      "metadata": {
        "id": "gtu63leJVbQX"
      },
      "execution_count": null,
      "outputs": []
    },
    {
      "cell_type": "code",
      "source": [
        "myarr2=np.array([[1,1],[2,3]])\n",
        "print(myarr2)\n",
        "myarr3=np.unique(myarr2)\n",
        "print(myarr3)"
      ],
      "metadata": {
        "id": "fzTdxPAvWlSX"
      },
      "execution_count": null,
      "outputs": []
    },
    {
      "cell_type": "code",
      "source": [
        "myarr=np.array([10,10,20,20,30,30])\n",
        "print(\"main array is\")\n",
        "print(myarr)\n",
        "myarr1=np.unique(myarr)\n",
        "print(myarr1)"
      ],
      "metadata": {
        "id": "PWzsFZ7nV_s0"
      },
      "execution_count": null,
      "outputs": []
    },
    {
      "cell_type": "code",
      "source": [
        "myarr2=np.array([[1,1],[2,3]])\n",
        "print(myarr2)\n"
      ],
      "metadata": {
        "id": "r8xNR3lIWMKv"
      },
      "execution_count": null,
      "outputs": []
    },
    {
      "cell_type": "code",
      "source": [
        "myarr3=np.unique(myarr2)\n",
        "print(myarr3)"
      ],
      "metadata": {
        "id": "BRotUyigWrT8"
      },
      "execution_count": null,
      "outputs": []
    },
    {
      "cell_type": "code",
      "source": [
        "# Arrays\n",
        "array1 = np.array([0, 10, 20, 40, 60, 80])\n",
        "array2 = np.array([10, 30, 40, 50, 70])\n",
        "\n",
        "# Set exclusive-or\n",
        "result = np.setxor1d(array1, array2)\n",
        "\n",
        "print(\"Unique values that are in only one (not both) of the input arrays:\")\n",
        "print(result)"
      ],
      "metadata": {
        "id": "HKtrQ_2dXNHk"
      },
      "execution_count": null,
      "outputs": []
    },
    {
      "cell_type": "code",
      "source": [
        "import numpy as np\n",
        "\n",
        "# Sample array\n",
        "arr = np.array([1, 2, 3, 4])\n",
        "print(\"Original array\")\n",
        "print(arr)\n",
        "\n",
        "# Repeat 2 times\n",
        "repeat_2 = np.tile(arr, 2)\n",
        "print(\"Repeating 2 times\")\n",
        "print(repeat_2)\n",
        "print(type(repeat_2))\n",
        "\n",
        "# Repeat 3 times\n",
        "repeat_3 = np.tile(arr, 3)\n",
        "print(\"Repeating 3 times\")\n",
        "print(repeat_3)\n",
        "\n"
      ],
      "metadata": {
        "id": "PEbMAdKrYjGf"
      },
      "execution_count": null,
      "outputs": []
    },
    {
      "cell_type": "code",
      "source": [
        "\n",
        "first=np.array([10,20,30,40])\n",
        "print(first)                    #  array will be printed\n",
        "np.save(\"myarray\",first)\n",
        "first=None\n",
        "print(first)                    # None, no need to worry, we can load the saved array\n",
        "second=np.load(\"myarray.npy\")   # extension \"npy\" mandatory\n",
        "print(second)"
      ],
      "metadata": {
        "id": "EMp8WOpjYo3c"
      },
      "execution_count": null,
      "outputs": []
    },
    {
      "cell_type": "code",
      "source": [],
      "metadata": {
        "id": "yd_lOL7hf7Ug"
      },
      "execution_count": null,
      "outputs": []
    },
    {
      "cell_type": "markdown",
      "source": [
        "# ***About Axis***"
      ],
      "metadata": {
        "id": "_CFy6WZUf78m"
      }
    },
    {
      "cell_type": "code",
      "source": [
        "\"\"\"in 2d array\n",
        "\n",
        "axis 0 means\n",
        "\tchopping something from top to bottom\n",
        "\n",
        "axis 1 means\n",
        "\tchopping something from left to right\n",
        "\"\"\"\n",
        "\n",
        "myar=np.array([[10,20,30],[40,50,60],[70,80,90]])\n",
        "\n",
        "print(\"entire sum\")\n",
        "print(np.sum(myar))\n",
        "print(\"axis 0 sum\")\n",
        "print(np.sum(myar,axis=0))  # chopping something from top to bottom\n",
        "print(\"axis 1 sum\")\n",
        "print(np.sum(myar,axis=1))  # chopping something from left to right"
      ],
      "metadata": {
        "id": "eunA4jTSZPC_",
        "colab": {
          "base_uri": "https://localhost:8080/"
        },
        "outputId": "58a17e1e-bf5d-4d77-cab0-4d985d22179b"
      },
      "execution_count": null,
      "outputs": [
        {
          "output_type": "stream",
          "name": "stdout",
          "text": [
            "entire sum\n",
            "450\n",
            "axis 0 sum\n",
            "[120 150 180]\n",
            "axis 1 sum\n",
            "[ 60 150 240]\n"
          ]
        }
      ]
    },
    {
      "cell_type": "code",
      "source": [
        "\"\"\"in 3d array\n",
        "\n",
        "axis 0 means\n",
        "\tno. of 2d arrays\n",
        "\n",
        "axis 1 means\n",
        "\tchopping something from top to bottom\n",
        "\n",
        "axis 2 means\n",
        "\tchopping something from left to right\n",
        "\"\"\"\n",
        "import numpy  as np\n",
        "\n",
        "myar=np.array([10,11,12,13,14,15,16,17,18,19,20,21,22,23,24,25,26,27])\n",
        "\n",
        "myar.shape=(2,3,3)\n",
        "print(myar)\n",
        "\n"
      ],
      "metadata": {
        "id": "Fb148RKUcT09"
      },
      "execution_count": null,
      "outputs": []
    },
    {
      "cell_type": "code",
      "source": [
        "# put 2nd two d array after first 2d array and then sum\n",
        "print(np.sum(myar))\n",
        "print(np.sum(myar,axis=0))\n",
        "\"\"\"\n",
        "[[10 11 12]   [[19 20 21]     [[29 31 33]\n",
        " [13 14 15] +  [22 23 24]  =   [35 37 39]\n",
        " [16 17 18]]    [25 26 27]]     [41 43 45]]\n",
        "\"\"\""
      ],
      "metadata": {
        "id": "Y0ymCERudKf9"
      },
      "execution_count": null,
      "outputs": []
    },
    {
      "cell_type": "code",
      "source": [
        " # it's like axis=0 in 2d array ,\n",
        " #chopping something from top to bottom within each 2d array\n",
        "print(\"with axis 1\")\n",
        "print(np.sum(myar,axis=1))\n",
        "\"\"\"\n",
        "[10 11 12] + [13 14 15] + [16 17 18] = [39 42 45]\n",
        "[19 20 21] + [22 23 24] + [25 26 27] = [66 69 72]\n",
        "\"\"\"\n"
      ],
      "metadata": {
        "id": "Dy3HPHnUdSqx"
      },
      "execution_count": null,
      "outputs": []
    },
    {
      "cell_type": "code",
      "source": [
        "# it's like axis=1 in 2d array,\n",
        "# chopping something from left to right within each 2d array\n",
        "print(\"with axis 2\")\n",
        "print(np.sum(myar,axis=2))\n",
        "\"\"\"\n",
        "[10+11+12, 13+14+15, 16+17+18] = [33, 42, 51]\n",
        "[19+20+21, 22+23+24, 25+26+27] = [60, 69, 78]\n",
        "\"\"\""
      ],
      "metadata": {
        "id": "XvXUZrcHdh1B"
      },
      "execution_count": null,
      "outputs": []
    },
    {
      "cell_type": "code",
      "source": [],
      "metadata": {
        "id": "Pp6Lkj6vdprv"
      },
      "execution_count": null,
      "outputs": []
    },
    {
      "cell_type": "markdown",
      "source": [
        "# **Stack**"
      ],
      "metadata": {
        "id": "IXjZX0-Sfy0U"
      }
    },
    {
      "cell_type": "markdown",
      "source": [
        "### **1d arrays with hstack,vstack,dstack,zero,one axis stack**"
      ],
      "metadata": {
        "id": "vPeT4gmZhGtR"
      }
    },
    {
      "cell_type": "code",
      "source": [
        "arr1= np.array([10,20,30])\n",
        "arr2=np.array([40,50,60])\n",
        "\n",
        "hstack1=np.hstack((arr1,arr2))\n",
        "print(\"Let's print horizontal stack\")\n",
        "print(hstack1)\n",
        "\"\"\"\n",
        "[10 20 30 40 50 60]   horizontally stacked\n",
        "\"\"\"\n"
      ],
      "metadata": {
        "id": "cveToRQ_gG5r"
      },
      "execution_count": null,
      "outputs": []
    },
    {
      "cell_type": "code",
      "source": [
        "vstack1=np.vstack((arr1,arr2))\n",
        "print(\"Let's print vertical stack\")\n",
        "print(vstack1)\n",
        "\"\"\"\n",
        "[[10 20 30]\n",
        " [40 50 60]]         vertically stacked\n",
        "\n",
        "\"\"\"\n",
        "\n",
        "#  np.stack((arr1,arr2),axis=2)  # not possible\n"
      ],
      "metadata": {
        "id": "KidR-0v0gTLg"
      },
      "execution_count": null,
      "outputs": []
    },
    {
      "cell_type": "code",
      "source": [
        "dstack1=np.dstack((arr1,arr2))\n",
        "print(\"Let's print d stack\")\n",
        "print(dstack1)\n",
        "\n",
        "\"\"\"\n",
        "[[[10 40]\n",
        "  [20 50]\n",
        "  [30 60]]]    depth i.e. 0th element of both the arrays will be joined ,then 1st element of both the arrays will be joined and so on\n",
        "\"\"\"\n"
      ],
      "metadata": {
        "id": "NXiQtGajgWXU"
      },
      "execution_count": null,
      "outputs": []
    },
    {
      "cell_type": "code",
      "source": [
        "\n",
        "zerostack=np.stack((arr1,arr2),axis=0)  #  top to bottom\n",
        "print(\"let's print axis-0 stack\")\n",
        "print(zerostack)\n",
        "\n",
        "\"\"\"\n",
        "[[10 20 30]\n",
        " [40 50 60]]  it's a double dimension array, first array is placed at 0th row and second at 1st row\n",
        "\n",
        "\"\"\"\n",
        "\n"
      ],
      "metadata": {
        "id": "B7wxDW3mgZaC"
      },
      "execution_count": null,
      "outputs": []
    },
    {
      "cell_type": "code",
      "source": [
        "\n",
        "onestack=np.stack((arr1,arr2),axis=1)  #  left to right\n",
        "print(\"let's print axis-1 stack\")\n",
        "print(onestack)\n",
        "\n",
        "\"\"\"\n",
        "[[10 40]\n",
        " [20 50]\n",
        " [30 60]]\n",
        "\t\tit like first array is taken and stacked at 0th column and second is stacked at 1st column\n",
        "\"\"\""
      ],
      "metadata": {
        "id": "3RbMUPMqgiHb"
      },
      "execution_count": null,
      "outputs": []
    },
    {
      "cell_type": "code",
      "source": [],
      "metadata": {
        "id": "goDPXK0Egpo9"
      },
      "execution_count": null,
      "outputs": []
    },
    {
      "cell_type": "markdown",
      "source": [
        "## **2D arrays with hstack,vstack,dstack,zero,one axis stack**\n"
      ],
      "metadata": {
        "id": "HZfTS_VVhQlZ"
      }
    },
    {
      "cell_type": "code",
      "source": [
        "arr1= np.array([[10,20,30],[40,50,60]])\n",
        "arr2=np.array([[70,80,90],[100,110,120]])\n",
        "\n",
        "hstack1=np.hstack((arr1,arr2))\n",
        "print(\"Let's print horizontal stack\")\n",
        "print(hstack1)\n",
        "\"\"\"\n",
        "[[ 10  20  30  70  80  90]     horizontally stacked\n",
        " [ 40  50  60 100 110 120]]\n",
        "\"\"\"\n"
      ],
      "metadata": {
        "id": "16uJmFvphSvz"
      },
      "execution_count": null,
      "outputs": []
    },
    {
      "cell_type": "code",
      "source": [
        "arr1= np.array([[10,20,30],[40,50,60]])\n",
        "arr2=np.array([[70,80,90],[100,110,120]])\n",
        "\n",
        "vstack1=np.vstack((arr1,arr2))\n",
        "print(\"Let's print vertical stack\")\n",
        "print(vstack1)\n",
        "\"\"\"\n",
        "[[ 10  20  30]\t\t\tvertically stacked\n",
        " [ 40  50  60]\n",
        " [ 70  80  90]\n",
        " [100 110 120]]\n",
        "\n",
        "\"\"\""
      ],
      "metadata": {
        "id": "zOvMG4cWha8X"
      },
      "execution_count": null,
      "outputs": []
    },
    {
      "cell_type": "code",
      "source": [
        "\n",
        "arr1= np.array([[10,20,30],[40,50,60]])\n",
        "arr2=np.array([[70,80,90],[100,110,120]])\n",
        "\n",
        "dstack1=np.dstack((arr1,arr2))\n",
        "print(\"Let's print d stack\")\n",
        "print(dstack1)\n",
        "\n",
        "\"\"\"\n",
        "[[[ 10  70]    first array's 0th element second's 0th element and so on....\n",
        "  [ 20  80]\n",
        "  [ 30  90]]\n",
        "\n",
        " [[ 40 100]\n",
        "  [ 50 110]\n",
        "  [ 60 120]]]\n",
        "\"\"\""
      ],
      "metadata": {
        "id": "zL3YFm7lheJj"
      },
      "execution_count": null,
      "outputs": []
    },
    {
      "cell_type": "code",
      "source": [
        "arr1= np.array([[10,20,30],[40,50,60]])\n",
        "arr2=np.array([[70,80,90],[100,110,120]])\n",
        "\n",
        "\n",
        "zerostack=np.stack((arr1,arr2),axis=0)\n",
        "print(\"let's print axis-0 stack\")\n",
        "print(zerostack)\n",
        "\n",
        "\"\"\"\n",
        "since it is going to create 3d array, in 3d array first is no. of 2d arrays\n",
        "so both 2d arrays are just stacked one below another\n",
        "\n",
        "[[[ 10  20  30]\n",
        "  [ 40  50  60]]\n",
        "\n",
        " [[ 70  80  90]\n",
        "  [100 110 120]]]\n",
        "\"\"\"\n"
      ],
      "metadata": {
        "id": "NJ0UVboohquE"
      },
      "execution_count": null,
      "outputs": []
    },
    {
      "cell_type": "code",
      "source": [
        "arr1= np.array([[10,20,30],[40,50,60]])\n",
        "arr2=np.array([[70,80,90],[100,110,120]])\n",
        "\n",
        "onestack=np.stack((arr1,arr2),axis=1)\n",
        "print(\"let's print axis-1 stack\")\n",
        "print(onestack)\n",
        "\n",
        "\"\"\"\n",
        "\n",
        "since it is going to create 3d array, in 3d array second is no. of rows\n",
        "so both 2d arrays 0th rows and 1st rows are stacked one below another\n",
        "\n",
        "[[[ 10  20  30]        # 0th row of first 2d array\n",
        "  [ 70  80  90]]       # 0th row of second 2d array\n",
        "\n",
        " [[ 40  50  60]        # 1st row of first 2d array\n",
        "  [100 110 120]]]      # 1st row of second 2d array\n",
        "\n",
        "\"\"\"\n",
        "\n"
      ],
      "metadata": {
        "id": "VMz2N8--hu6Z"
      },
      "execution_count": null,
      "outputs": []
    },
    {
      "cell_type": "code",
      "source": [
        "arr1= np.array([[10,20,30],[40,50,60]])\n",
        "arr2=np.array([[70,80,90],[100,110,120]])\n",
        "\n",
        "twostack=np.stack((arr1,arr2),axis=2)\n",
        "print(\"let's print axis-2 stack\")\n",
        "print(twostack)\n",
        "\n",
        "\"\"\"\n",
        "\n",
        "since it is going to create 3d array, in 3d array third is no. of cols\n",
        "hence 1st 2d arrays 0th row and 2nd 2d arrays 0th row are placed in the\n",
        "columns 0 and 1 respectively. Similarly 1st 2d arrays 1st row and 2nd\n",
        "2d arrays 1st row are placed in the columns 0 and 1 respectively.\n",
        "\n",
        "[[[ 10  70]\n",
        "  [ 20  80]\n",
        "  [ 30  90]]\n",
        "\n",
        " [[ 40 100]\n",
        "  [ 50 110]\n",
        "  [ 60 120]]]\n",
        "\n",
        "\n",
        "\"\"\""
      ],
      "metadata": {
        "id": "ROyRMBlphyFt"
      },
      "execution_count": null,
      "outputs": []
    },
    {
      "cell_type": "code",
      "source": [],
      "metadata": {
        "id": "Ce6Jp0dciW3R"
      },
      "execution_count": null,
      "outputs": []
    },
    {
      "cell_type": "markdown",
      "source": [
        "## **One more example**"
      ],
      "metadata": {
        "id": "Sjkahp90jW_8"
      }
    },
    {
      "cell_type": "code",
      "source": [
        "import numpy as np\n",
        "\n",
        "arr1=np.array([[1,2,3],[4,5,6]])\n",
        "arr2=np.array([[7,8,9],[10,11,12]])\n",
        "arr3=np.array([[13,14,15],[16,17,18]])\n",
        "\n",
        "hstack=np.hstack((arr1,arr2,arr3))\n",
        "print(\"this is hstack\")\n",
        "print(hstack) # each 2d array's individual rows are stacked horizontally\n",
        "\n",
        "\n",
        "\n",
        "dstack=np.dstack((arr1,arr2,arr3))\n",
        "print(\"this is dstack\")\n",
        "print(dstack) # each 2d array's individual member is stacked together\n",
        "\n",
        "stack_0=np.stack((arr1,arr2,arr3),axis=0)\n",
        "print(\"this is 0 stack\")\n",
        "print(stack_0)  # in 3d array, axis 0 means no. of 2d arrays\n",
        "# here we have 3 2d arrays , so they are stacked one below other\n",
        "\n",
        "stack_1=np.stack((arr1,arr2,arr3),axis=1)\n",
        "print(\"this is 1 stack\")\n",
        "print(stack_1)  # in 3d array axis 1 is similar to axis 0 of 2d array\n",
        "# i.e. top to bottom\n",
        "# each 2d array's 0th rows are stacked from top to bottom , then 1st rows and so on\n",
        "\n",
        "stack_2=np.stack((arr1,arr2,arr3),axis=2)\n",
        "print(\"this is 2 stack\")\n",
        "print(stack_2) # in 3d array axis 2 is similar to axis 1 of 2d array\n",
        "# i.e. left to right\n",
        "# each 2d array's 0th row will be placed in the 0th column, 1st and 2nd column respectively\n",
        "# in the first generated 2d array\n",
        "# each 2d array's 1th row will be placed in the 0th column, 1st and 2nd column respectively\n",
        "# in the second generated 2d array.\n",
        "\n",
        "print(stack_2.ndim)\n",
        "print(stack_2.shape)"
      ],
      "metadata": {
        "id": "c5x_KGhvjeTt"
      },
      "execution_count": null,
      "outputs": []
    },
    {
      "cell_type": "markdown",
      "source": [
        "### **Numpy_Mathematical**"
      ],
      "metadata": {
        "id": "C8lRzzAzjmsQ"
      }
    },
    {
      "cell_type": "code",
      "source": [
        "first=np.array([10,20,30])\n",
        "second=np.array([40,50,60])\n",
        "third=np.sum((first,second),axis=0)     # top to bottom\n",
        "# [50 70 90]\n",
        "print(third)\n",
        "print(\"\\n\")\n",
        "fourth=np.sum((first,second),axis=1)    # left to right\n",
        "# [ 60 150]\n",
        "print(fourth)"
      ],
      "metadata": {
        "id": "g-U4VtqTuoLl"
      },
      "execution_count": null,
      "outputs": []
    },
    {
      "cell_type": "code",
      "source": [
        "arr=np.array([[1,2,3,4],\n",
        "             [2,3,4,5],\n",
        "             [7,8,9,10]])\n",
        "arr1=np.sum(arr,axis=1)   # left to right sum\n",
        "# 1+2+3+4   2+3+4+5   7+8+9+10\n",
        "print(arr1)\n",
        "\n",
        "arr2=np.sum(arr,axis=0)  # top to bottom sum\n",
        "# 1+2+7     2+3+8     3+4+9     4+5+10\n",
        "print(arr2)"
      ],
      "metadata": {
        "id": "DqSfn0ivurKp"
      },
      "execution_count": null,
      "outputs": []
    },
    {
      "cell_type": "code",
      "source": [],
      "metadata": {
        "id": "PpP6rznhvzgC"
      },
      "execution_count": null,
      "outputs": []
    },
    {
      "cell_type": "markdown",
      "source": [
        "eg 14 b"
      ],
      "metadata": {
        "id": "wR0uO_IMv5l2"
      }
    },
    {
      "cell_type": "code",
      "source": [
        "import numpy as np\n",
        "\n",
        "fourth=np.array([[10,20,30],[40,50,60]])\n",
        "fifth=np.array([[70,80,90],[100,110,120]])\n",
        "sixth=np.sum((fourth,fifth),axis=0)\n",
        "\"\"\"\n",
        "in case of 3d array axis 0 means no.of 2d arrays\n",
        "here we have 2 2d arrays , so in axis 0 what happens\n",
        "is second 2d array is placed behind 1st 2d array and sum is performed\n",
        "on each and every element i.e. 10 is added to 70, 20 is added to 80 and so on....\n",
        "\"\"\"\n",
        "\"\"\" [[ 80 100 120]\n",
        "     [140 160 180]] \"\"\"\n",
        "print(sixth)\n",
        "\n"
      ],
      "metadata": {
        "id": "SVg8cUEpuyT-"
      },
      "execution_count": null,
      "outputs": []
    },
    {
      "cell_type": "code",
      "source": [
        "eighth=np.sum((fourth,fifth),axis=1)\n",
        "\"\"\"\n",
        "in 3d array axis 1 is similar to axis 0 of 2d array i.e. top to bottom\n",
        "so each 2d arrays sum will be calculated based of top to bottom pattern\n",
        "it means 10 is added to 40, 20 is added to 50 and so..on\n",
        "\"\"\"\n",
        "\"\"\" [[ 50  70  90]\n",
        " [170 190 210]] \"\"\"\n",
        "\n",
        "print(eighth)"
      ],
      "metadata": {
        "id": "rZSaN95gvNLQ"
      },
      "execution_count": null,
      "outputs": []
    },
    {
      "cell_type": "code",
      "source": [
        "ninth=np.sum((fourth,fifth),axis=2)\n",
        "\"\"\"\n",
        "in 3d array axis 2 means axis 1 of 2d array i.e. left to right\n",
        "so each 2d arrays sum will be calculated on left to right pattern\n",
        "it means 10+20+30   40+50+60   70+80+90   100+110+120\n",
        "\"\"\"\n",
        "print(ninth)\n",
        "\"\"\" [[ 60 150]\n",
        " [240 330]] \"\"\""
      ],
      "metadata": {
        "id": "kWl-_DMIvhyK"
      },
      "execution_count": null,
      "outputs": []
    },
    {
      "cell_type": "code",
      "source": [],
      "metadata": {
        "id": "k4tTAGAPvtzt"
      },
      "execution_count": null,
      "outputs": []
    },
    {
      "cell_type": "markdown",
      "source": [
        "**example** 15"
      ],
      "metadata": {
        "id": "aw4bkmwhv9ms"
      }
    },
    {
      "cell_type": "code",
      "source": [
        "import numpy as np\n",
        "print(\"Let's try with 3 arrays\")\n",
        "a = np.array([[10,20,30],\n",
        "              [40,50,60]])\n",
        "\n",
        "b = np.array([[ 70, 80, 90],\n",
        "              [100,110,120]])\n",
        "\n",
        "c = np.array([[ 5,  9, 11],\n",
        "              [15, 17, 18]])\n"
      ],
      "metadata": {
        "id": "G7123xFgwBvt"
      },
      "execution_count": null,
      "outputs": []
    },
    {
      "cell_type": "code",
      "source": [
        "print(\"output of axis=0\")\n",
        "d=np.sum((a,b,c),axis=0)\n",
        "print(d)\n",
        "\"\"\"\n",
        "Row 1, Col 1 → [10 + 70 + 5] = 85\n",
        "Row 1, Col 2 → [20 + 80 + 9] = 109\n",
        "Row 1, Col 3 → [30 + 90 + 11] = 131\n",
        "\n",
        "Row 2, Col 1 → [40 + 100 + 15] = 155\n",
        "Row 2, Col 2 → [50 + 110 + 17] = 177\n",
        "Row 2, Col 3 → [60 + 120 + 18] = 198\n",
        "\n",
        "[[ 85 109 131]\n",
        " [155 177 198]] \"\"\""
      ],
      "metadata": {
        "id": "7qGueKGvwclK"
      },
      "execution_count": null,
      "outputs": []
    },
    {
      "cell_type": "code",
      "source": [
        "print(\"output of axis=1\")\n",
        "e=np.sum((a,b,c),axis=1)\n",
        "print(e)\n",
        "\"\"\"\n",
        "Now summing along axis=1:\n",
        "\n",
        "For a: [10+40, 20+50, 30+60] = [50, 70, 90]\n",
        "\n",
        "For b: [70+100, 80+110, 90+120] = [170, 190, 210]\n",
        "\n",
        "For c: [5+15, 9+17, 11+18] = [20, 26, 29]\n",
        "\n",
        " [[ 50  70  90]\n",
        " [170 190 210]\n",
        " [ 20  26  29]] \"\"\""
      ],
      "metadata": {
        "id": "UVKVH848wKId"
      },
      "execution_count": null,
      "outputs": []
    },
    {
      "cell_type": "code",
      "source": [
        "print(\"output of axis=2\")\n",
        "f=np.sum((a,b,c),axis=2)\n",
        "print(f)\n",
        "\"\"\"\n",
        "Step 3: Work it out\n",
        "For array a:\n",
        "Row1: 10 + 20 + 30 = 60\n",
        "Row2: 40 + 50 + 60 = 150\n",
        "\n",
        "For array b:\n",
        "Row1: 70 + 80 + 90   = 240\n",
        "Row2: 100 + 110 + 120 = 330\n",
        "\n",
        "For array c:\n",
        "Row1: 5 + 9 + 11 = 25\n",
        "Row2: 15 + 17 + 18 = 50\n",
        "\n",
        " [[ 60 150]\n",
        " [240 330]\n",
        " [ 25  50]] \"\"\""
      ],
      "metadata": {
        "id": "j4dEjXQOwM3E"
      },
      "execution_count": null,
      "outputs": []
    },
    {
      "cell_type": "code",
      "source": [],
      "metadata": {
        "id": "DVwFtvZQwNXt"
      },
      "execution_count": null,
      "outputs": []
    },
    {
      "cell_type": "code",
      "source": [],
      "metadata": {
        "id": "oagATmasyLa-"
      },
      "execution_count": null,
      "outputs": []
    },
    {
      "cell_type": "markdown",
      "source": [
        "**Indexing_Slicing_One-d_ array**"
      ],
      "metadata": {
        "id": "qi9SpUy5yMPi"
      }
    },
    {
      "cell_type": "code",
      "source": [
        "from numpy import *\n",
        "\n",
        "first=array([10,20,30,40])\n",
        "# indexing from left to right\n",
        "\n",
        "print(first[0],\"\\t\",first[1],\"\\t\",first[2],\"\\t\",first[3])\n",
        "\n",
        "# indexing from right to left\n",
        "\n",
        "print(\"\\n\")\n",
        "print(first[-1],\"\\t\",first[-2],\"\\t\",first[-3],\"\\t\",first[-4])"
      ],
      "metadata": {
        "id": "4AZooXz5yQHz"
      },
      "execution_count": null,
      "outputs": []
    },
    {
      "cell_type": "code",
      "source": [
        "from numpy import *\n",
        "\n",
        "first=array([10,20,30,40,50,60])\n",
        "print(first)\n",
        "print(\"\\n\")\n",
        "second=first[2:4]    #  4 is exclusive\n",
        "print(\"after slicing\")\n",
        "print(second)\n",
        "third=first[1:5:2]     #  2 is a skip value,  if not given it is by default 1\n",
        "print(\"\\n\")\n",
        "print(third)\n",
        "fourth=first[3:]       #  start from the 3rd position and go till end\n",
        "print(\"\\n\")\n",
        "print(fourth)\n",
        "print(\"\\n\")\n",
        "fifth=first[:4]        #  start from 0 and go till 3 ,  4 is exclusive\n",
        "print(fifth)\n",
        "sixth=first[-2:]       #  last two elements   , start from second last and go till end\n",
        "print(\"\\n\")\n",
        "print(sixth)\n",
        "print(\"\\n\")\n",
        "seventh=first[:-2]     # start from zero and go till second last,   second last is exclusive\n",
        "print(seventh)\n",
        "eighth=first[-4:-1]    # start from -4 i.e. number 30  and go till last , last is exclusive\n",
        "print(\"\\n\")\n",
        "print(eighth)"
      ],
      "metadata": {
        "id": "YbXRGIVAyTo_"
      },
      "execution_count": null,
      "outputs": []
    },
    {
      "cell_type": "code",
      "source": [],
      "metadata": {
        "id": "tj5PCiWTygX6"
      },
      "execution_count": null,
      "outputs": []
    },
    {
      "cell_type": "code",
      "source": [],
      "metadata": {
        "id": "OBMX8n6aygww"
      },
      "execution_count": null,
      "outputs": []
    },
    {
      "cell_type": "markdown",
      "source": [
        "## Indexing_Slicing_Two-**d_array**"
      ],
      "metadata": {
        "id": "Efh4wv9zyuIO"
      }
    },
    {
      "cell_type": "code",
      "source": [],
      "metadata": {
        "id": "oBYjPWwWyg5U"
      },
      "execution_count": null,
      "outputs": []
    },
    {
      "cell_type": "markdown",
      "source": [
        "example 1\n"
      ],
      "metadata": {
        "id": "V4wiA9_QyzfO"
      }
    },
    {
      "cell_type": "code",
      "source": [
        "from numpy import *\n",
        "\n",
        "first=array([[10,20,30],[40,50,60],[70,80,90]])\n",
        "print(\"from left to right\")\n",
        "print(first[0][0])\n",
        "print(first[0][1])\n",
        "print(first[0][2])\n",
        "print(first[1][0])\n",
        "print(first[1][1])\n",
        "print(first[1][2])\n",
        "print(first[2][0])\n",
        "print(first[2][1])\n",
        "print(first[2][2])\n",
        "print(\"from right to left\")\n",
        "print(first[-1][-1])\n",
        "print(first[-1][-2])\n",
        "print(first[-1][-3])\n",
        "print(first[-2][-1])\n",
        "print(first[-2][-2])\n",
        "print(first[-2][-3])\n",
        "print(first[-3][-1])\n",
        "print(first[-3][-2])\n",
        "print(first[-3][-3])\n"
      ],
      "metadata": {
        "id": "CdMyM6HByhAH"
      },
      "execution_count": null,
      "outputs": []
    },
    {
      "cell_type": "markdown",
      "source": [
        "### **Example 1 Slicing**"
      ],
      "metadata": {
        "id": "VOXm0yjyy8BY"
      }
    },
    {
      "cell_type": "code",
      "source": [
        "from numpy import *\n",
        "\n",
        "first=array([[10,20,30],\n",
        "             [40,50,60],\n",
        "             [70,80,90]])\n",
        "# slicing syntax\n",
        "#  arrayname [row range,col range]\n",
        "\n",
        "second=first[2:3]     # start from 0th row and go till 2nd row,   2 is exclusive  this is only for row as you haven't given column\n",
        "print(second)\n"
      ],
      "metadata": {
        "id": "HDAa-OACyhF8"
      },
      "execution_count": null,
      "outputs": []
    },
    {
      "cell_type": "code",
      "source": [
        "third=first[:2,1:3]  #  row 0 to 1    column 1 to 2  , 3 is exclusive\n",
        "print(third)"
      ],
      "metadata": {
        "id": "f68Vmx3hzcdn"
      },
      "execution_count": null,
      "outputs": []
    },
    {
      "cell_type": "markdown",
      "source": [
        "### Example 2 **Slicing**"
      ],
      "metadata": {
        "id": "TMCRT6f2zJ8Y"
      }
    },
    {
      "cell_type": "code",
      "source": [
        "from numpy import *\n",
        "\n",
        "random.seed(8)\n",
        "first=random.randint(1,500,30).reshape(6,5)\n",
        "print(\"array created is\")\n",
        "print(first)\n"
      ],
      "metadata": {
        "id": "OkMNJ2OiyhK6"
      },
      "execution_count": null,
      "outputs": []
    },
    {
      "cell_type": "code",
      "source": [
        "print(\"from the 2nd row\")\n",
        "print(first[2:])            #  from 2nd row\n",
        "print(\"\\n\")"
      ],
      "metadata": {
        "id": "w42jlueN0VtD"
      },
      "execution_count": null,
      "outputs": []
    },
    {
      "cell_type": "code",
      "source": [
        "print(first[2:,3])          #  from 2nd row and only 3rd column\n",
        "print(\"\\n\")"
      ],
      "metadata": {
        "id": "LcucClnQyhP-"
      },
      "execution_count": null,
      "outputs": []
    },
    {
      "cell_type": "code",
      "source": [
        "print(first[2:,2:])         #  from 2nd row and from 2nd column\n",
        "# let's extract  459  62  and 19\n",
        "print(\"\\n\")"
      ],
      "metadata": {
        "id": "rF9WKwbMyhUm"
      },
      "execution_count": null,
      "outputs": []
    },
    {
      "cell_type": "code",
      "source": [
        "print(first[3:,1:2])\n",
        "# let's extract 340 361 86 317 156 and 109\n",
        "print(\"\\n\")"
      ],
      "metadata": {
        "id": "AeUY1PshyhZT"
      },
      "execution_count": null,
      "outputs": []
    },
    {
      "cell_type": "code",
      "source": [
        "print(first[1:4,2:4])\n",
        "print(\"\\n\")"
      ],
      "metadata": {
        "id": "dP6yYWvgyhsI"
      },
      "execution_count": null,
      "outputs": []
    },
    {
      "cell_type": "code",
      "source": [
        "# let's extract  459  156  and 109\n",
        "print(first[3:4,1:4])"
      ],
      "metadata": {
        "id": "ak9QmRoM0pnd"
      },
      "execution_count": null,
      "outputs": []
    },
    {
      "cell_type": "code",
      "source": [],
      "metadata": {
        "id": "f9P_700a0r4S"
      },
      "execution_count": null,
      "outputs": []
    },
    {
      "cell_type": "markdown",
      "source": [
        "# Numpy mutable or immutable"
      ],
      "metadata": {
        "id": "YVogB6Mf1OtO"
      }
    },
    {
      "cell_type": "code",
      "source": [],
      "metadata": {
        "id": "p10OmeIh1QZ-"
      },
      "execution_count": null,
      "outputs": []
    },
    {
      "cell_type": "markdown",
      "source": [
        "### example **1**"
      ],
      "metadata": {
        "id": "Zhoj6yVK1R-0"
      }
    },
    {
      "cell_type": "code",
      "source": [
        "# numpy array elements are mutable but numpy as an object is immutable\n",
        "# first+1  creates a new numpy object in which changes can be seen\n",
        "\n",
        "import numpy as np\n",
        "first=np.array([10,20,30])\n",
        "print(first,\"\\t\",id(first))\n",
        "second=first+1      #  this is like immutable\n",
        "first[0]=34         #  array elements can be changed\n",
        "print(first,\"\\t\",id(first))\n",
        "print(second,\"\\t\",id(second))\n"
      ],
      "metadata": {
        "id": "XHoyBGhx1UWq"
      },
      "execution_count": null,
      "outputs": []
    },
    {
      "cell_type": "markdown",
      "source": [
        "Example 2"
      ],
      "metadata": {
        "id": "yZGTxQNJ1w_g"
      }
    },
    {
      "cell_type": "code",
      "source": [
        "# how to make numpy array read only\n",
        "import numpy as np\n",
        "\n",
        "\n",
        "first=np.array([10,20,30])\n",
        "first.flags.writeable = False\n",
        "print(first,\"\\t\",id(first))\n",
        "second=first+1      #  no problem here\n",
        "# first[0]=34         # ValueError: assignment destination is read-only\n",
        "print(first,\"\\t\",id(first))\n",
        "print(second,\"\\t\",id(second))\n"
      ],
      "metadata": {
        "id": "sBOik0NG1WYU"
      },
      "execution_count": null,
      "outputs": []
    },
    {
      "cell_type": "markdown",
      "source": [
        "### **Sort Numpy**"
      ],
      "metadata": {
        "id": "ED7aBABy2Ml3"
      }
    },
    {
      "cell_type": "markdown",
      "source": [
        "Example 1"
      ],
      "metadata": {
        "id": "1wtqJtEH2Tsa"
      }
    },
    {
      "cell_type": "code",
      "source": [
        "a = np.array([12, 15, 10, 1])\n",
        "print(\"Array before sorting\",a)\n",
        "a.sort()\n",
        "print(\"Array after sorting\",a)"
      ],
      "metadata": {
        "id": "HG_qUXbz1Yzz"
      },
      "execution_count": null,
      "outputs": []
    },
    {
      "cell_type": "markdown",
      "source": [
        "Example 2\n"
      ],
      "metadata": {
        "id": "6XDpKPrZ2ZFg"
      }
    },
    {
      "cell_type": "code",
      "source": [
        "import numpy as np\n",
        "\n",
        "# sort without any axis\n",
        "\n",
        "a = np.array([[12, 25],\n",
        "              [30, 18]])\n",
        "arr1 = np.sort(a, axis=None)\n",
        "print(\"\\nAlong None axis : \\n\", arr1)\n"
      ],
      "metadata": {
        "id": "M9n42M-L2Wu1"
      },
      "execution_count": null,
      "outputs": []
    },
    {
      "cell_type": "code",
      "source": [
        "# sort along the first axis\n",
        "a = np.array([[12, 25], [30, 18]])\n",
        "arr1 = np.sort(a, axis=0) # top to bottom\n",
        "# 12 will be compared with 30, 25 will be compared with 18\n",
        "print(\"Along 0 axis : \\n\", arr1)"
      ],
      "metadata": {
        "id": "AH-fAEzD2yTt"
      },
      "execution_count": null,
      "outputs": []
    },
    {
      "cell_type": "code",
      "source": [
        "a = np.array([[12, 25],\n",
        "              [30, 18]])\n",
        "arr1 = np.sort(a, axis=1) # left to right\n",
        "# 12 will be compared to 25, 30 will be compared to 18\n",
        "print(\"\\nAlong 1 axis : \\n\", arr1)"
      ],
      "metadata": {
        "id": "So40DE_G2pLa"
      },
      "execution_count": null,
      "outputs": []
    },
    {
      "cell_type": "code",
      "source": [
        "a = np.array([[12, 25],\n",
        "              [30, 18]])\n",
        "print(\"Reverse order top to bottom\\n\")\n",
        "arr1 = -np.sort(-a, axis=0)\n",
        "print(arr1)"
      ],
      "metadata": {
        "id": "6G1YIWdB24Ty"
      },
      "execution_count": null,
      "outputs": []
    },
    {
      "cell_type": "code",
      "source": [
        "a = np.array([[12, 25],\n",
        "              [30, 18]])\n",
        "print(\"Reverse order left to right\\n\")\n",
        "arr1 = -np.sort(-a, axis=1)\n",
        "print(arr1)"
      ],
      "metadata": {
        "id": "roHYHD-J29ft"
      },
      "execution_count": null,
      "outputs": []
    },
    {
      "cell_type": "markdown",
      "source": [
        "here for descending order we have said\n",
        "\n",
        "a = np.array([[12, 25], [30, 18]])\n",
        "\n",
        "print(\"Reverse order axis 0\\n\") arr1 = -np.sort(-a, axis=0) print(arr1)\n",
        "\n",
        "why two minus(-) signs are required here? one for np.sort and other for \"a\"\n",
        "\n",
        "First Minus (-a): This negates the elements of the array a. So, for example, the array [[12, 25], [30, 18]] becomes [[-12, -25], [-30, -18]]. This transformation effectively flips the values, allowing larger original values to become smaller (in terms of their negated values).\n",
        "\n",
        "np.sort(-a, axis=0): Now, when you apply np.sort to the negated array, it sorts the values in ascending order. For the transformed array, this means the larger original values will appear first.\n",
        "\n",
        "Second Minus (-np.sort(-a, axis=0)): Finally, you negate the sorted result again to return it to the original scale. This gives you the values in descending order."
      ],
      "metadata": {
        "id": "PstBcGM05U_N"
      }
    },
    {
      "cell_type": "code",
      "source": [
        "myar = np.array([[[10, 20, 30],\n",
        "                  [4, 50, 6]],\n",
        "\n",
        "                 [[70, 8, 90],\n",
        "                  [65, 110, 12]]])\n",
        "print(myar)\n"
      ],
      "metadata": {
        "id": "BD0TtQ_73A5v"
      },
      "execution_count": null,
      "outputs": []
    },
    {
      "cell_type": "code",
      "source": [
        "myar = np.array([[[10, 20, 30],\n",
        "                  [4, 50, 6]],\n",
        "\n",
        "                 [[70, 8, 90],\n",
        "                  [65, 110, 12]]])\n",
        "print(\"Ascending order 3d array axis 0\")\n",
        "arr1 = np.sort(myar, axis=0)\n",
        "print(arr1)\n",
        "\"\"\"\n",
        "in 3d array axis 0 means no. of 2d arrays. Since we have 2 2d arrays\n",
        "each and every element of 1st 2d array will be compared with 2nd 2d array\n",
        "\n",
        "10 will be compared with 70, 20 will be with 8, 30 will be with 90\n",
        "4 will be with 65, 50 will be with 110, 6 will be with 12\n",
        "\"\"\""
      ],
      "metadata": {
        "id": "tRkYTQlZ3Vsk"
      },
      "execution_count": null,
      "outputs": []
    },
    {
      "cell_type": "code",
      "source": [
        "myar = np.array([[[10, 20, 30],\n",
        "                  [4, 50, 6]],\n",
        "\n",
        "                 [[70, 8, 90],\n",
        "                  [65, 110, 12]]])\n",
        "\n",
        "print(\"Ascending order 3d array axis 1\")\n",
        "arr1 = np.sort(myar, axis=1)\n",
        "\"\"\"\n",
        "in 3d array axis 1 means axis 0 of 2d array i.e. top to bottom\n",
        "so in each 2d array elements will be compared on top to bottom basis\n",
        "i.e.\n",
        "10 will be compared with 4, 20 will be with 50, 30 will be compared with 6\n",
        "70 will be compared with 65, 8 will be compared with 110, 90 will be compared with 12\"\"\"\n",
        "\n",
        "print(arr1)"
      ],
      "metadata": {
        "id": "9RbsAxc13wZJ"
      },
      "execution_count": null,
      "outputs": []
    },
    {
      "cell_type": "code",
      "source": [
        "myar = np.array([[[10, 20, 30],\n",
        "                  [4, 50, 6]],\n",
        "\n",
        "                 [[70, 8, 90],\n",
        "                  [65, 110, 12]]])\n",
        "\n",
        "print(\"Ascending order 3d array axis 2\")\n",
        "arr1 = np.sort(myar, axis=2)\n",
        "\"\"\"\n",
        "in 3d array axis 2 means axis 1 of 2d array which means left to right\n",
        "so each individual array of each 2d array will be compared from left to right\n",
        "i.e. 10 will be compared with 20 and 30\n",
        "4 will be compared with 50 and 60\n",
        "and so on....\n",
        "\"\"\"\n",
        "print(arr1)"
      ],
      "metadata": {
        "id": "wuIc_w9I32ub"
      },
      "execution_count": null,
      "outputs": []
    },
    {
      "cell_type": "code",
      "source": [
        "myar = np.array([[[10, 20, 30],\n",
        "                  [4, 50, 6]],\n",
        "\n",
        "                 [[70, 8, 90],\n",
        "                  [65, 110, 12]]])\n",
        "print(\"Reverse order 3d array axis 0\\n\")\n",
        "arr1 = -np.sort(-myar, axis=0)\n",
        "print(arr1)\n"
      ],
      "metadata": {
        "id": "TqbXYk1L3-rY"
      },
      "execution_count": null,
      "outputs": []
    },
    {
      "cell_type": "code",
      "source": [
        "myar = np.array([[[10, 20, 30],\n",
        "                  [4, 50, 6]],\n",
        "\n",
        "                 [[70, 8, 90],\n",
        "                  [65, 110, 12]]])\n",
        "print(\"Reverse order 3d array axis 1\\n\")\n",
        "\n",
        "arr1 = -np.sort(-myar, axis=1)\n",
        "print(arr1)\n"
      ],
      "metadata": {
        "id": "47qfGhpD4E_P"
      },
      "execution_count": null,
      "outputs": []
    },
    {
      "cell_type": "code",
      "source": [
        "myar = np.array([[[10, 20, 30],\n",
        "                  [4, 50, 6]],\n",
        "\n",
        "                 [[70, 8, 90],\n",
        "                  [65, 110, 12]]])\n",
        "print(\"Reverse order 3d array axis 2\\n\")\n",
        "\n",
        "arr1 = -np.sort(-myar, axis=2)\n",
        "print(arr1)"
      ],
      "metadata": {
        "id": "Rdp-rSZx4KKh"
      },
      "execution_count": null,
      "outputs": []
    },
    {
      "cell_type": "code",
      "source": [],
      "metadata": {
        "id": "311lQkZJ4Kxc"
      },
      "execution_count": null,
      "outputs": []
    },
    {
      "cell_type": "markdown",
      "source": [
        "# **Filtering_in_Numpy**"
      ],
      "metadata": {
        "id": "o5IT1nYz7-i2"
      }
    },
    {
      "cell_type": "markdown",
      "source": [
        "Eg 1\n"
      ],
      "metadata": {
        "id": "tcAOofcZ8CZK"
      }
    },
    {
      "cell_type": "code",
      "source": [
        "arr = np.array([5,8,9,11,12,16])\n",
        "print(arr)\n",
        "print(arr[[True,False,True,False,True,False]])"
      ],
      "metadata": {
        "id": "_psmUPV-7950"
      },
      "execution_count": null,
      "outputs": []
    },
    {
      "cell_type": "code",
      "source": [
        "arr = np.array([5,8,9,11,12,16])\n",
        "print(arr)\n",
        "print(arr%4==0)  #  it prints  [False  True False False  True  True]"
      ],
      "metadata": {
        "id": "-IBF50J08Eoe"
      },
      "execution_count": null,
      "outputs": []
    },
    {
      "cell_type": "code",
      "source": [
        "arr = np.array([5,8,9,11,12,16])\n",
        "print(arr)\n",
        "print(arr[(arr%4==0)]) # it's like arr[[False  True False False  True  True]]"
      ],
      "metadata": {
        "id": "1R_EGVSy8Pro"
      },
      "execution_count": null,
      "outputs": []
    },
    {
      "cell_type": "code",
      "source": [
        "arr = np.array([5,8,9,11,12,16])\n",
        "print(arr)\n",
        "print(arr[(arr>=9) & (arr<=15)])"
      ],
      "metadata": {
        "id": "_zUApD8S88US"
      },
      "execution_count": null,
      "outputs": []
    },
    {
      "cell_type": "code",
      "source": [
        "arr = np.array([5,8,9,11,12,16])\n",
        "print(arr)\n",
        "print(arr[(arr%3==0) | (arr%11==0)])"
      ],
      "metadata": {
        "id": "eQj7pAyC89dg"
      },
      "execution_count": null,
      "outputs": []
    },
    {
      "cell_type": "code",
      "source": [
        "arr = np.array([5,8,9,11,12,16])\n",
        "print(arr)\n",
        "#filter for values that are equal to 2, 3, 5, or 12\n",
        "print(np.isin(arr,[2, 3, 5, 12]))"
      ],
      "metadata": {
        "id": "3iOVMqm19A_N"
      },
      "execution_count": null,
      "outputs": []
    },
    {
      "cell_type": "code",
      "source": [
        "arr = np.array([5,8,9,11,12,16])\n",
        "print(arr)\n",
        "print(arr[np.isin(arr,[2, 3, 5, 12])])"
      ],
      "metadata": {
        "id": "UP05Gx7X9B4k"
      },
      "execution_count": null,
      "outputs": []
    },
    {
      "cell_type": "code",
      "source": [],
      "metadata": {
        "id": "CZD4VQdY9DeN"
      },
      "execution_count": null,
      "outputs": []
    },
    {
      "cell_type": "markdown",
      "source": [
        "Example_3_Using_Mask\n"
      ],
      "metadata": {
        "id": "rMO_JvwT_EJF"
      }
    },
    {
      "cell_type": "code",
      "source": [
        "# Using mask\n",
        "\n",
        "import numpy as np\n",
        "\n",
        "# making a numpy array\n",
        "array1 = np.array([num for num in range(10, 50)])\n",
        "\n",
        "print(\"Original array\")\n",
        "print(array1)\n",
        "\n",
        "# defining mask based on two conditions:\n",
        "# array element must be greater than 22\n",
        "# and must be a divisible by 2\n",
        "mask = (array1 > 22) & (array1 % 2 == 0)\n",
        "\n",
        "# making new array on conditions\n",
        "array2 = array1[mask]\n",
        "print(\"New array\")\n",
        "print(array2)\n"
      ],
      "metadata": {
        "id": "yTNj8ieU9M_U"
      },
      "execution_count": null,
      "outputs": []
    },
    {
      "cell_type": "markdown",
      "source": [
        "Example_4_Using_Iterative_method"
      ],
      "metadata": {
        "id": "KbMQ3tgg_h1x"
      }
    },
    {
      "cell_type": "code",
      "source": [
        "# Using iterative method\n",
        "\n",
        "import numpy as np\n",
        "\n",
        "# making a numpy array\n",
        "array1 = np.array([x for x in range(11, 40)])\n",
        "\n",
        "print(\"Original array\")\n",
        "print(array1)\n",
        "\n",
        "# making a blank list\n",
        "mylist = []\n",
        "\n",
        "for x in array1:\n",
        "    # applying two conditions: number is divisible by 2 and is greater than 15\n",
        "    if x % 2 == 0 and x > 15:\n",
        "       mylist.append(x)\n",
        "\n",
        "# Converting new list into numpy array\n",
        "array2 = np.array(mylist)\n",
        "print(\"New array\")\n",
        "print(array2)"
      ],
      "metadata": {
        "id": "guC_iqB9_KVS"
      },
      "execution_count": null,
      "outputs": []
    },
    {
      "cell_type": "code",
      "source": [
        "\n"
      ],
      "metadata": {
        "id": "pMlAOW_oAU4q"
      },
      "execution_count": null,
      "outputs": []
    },
    {
      "cell_type": "markdown",
      "source": [
        "Example_5_Using_Lambda"
      ],
      "metadata": {
        "id": "G1LByV3R_8bJ"
      }
    },
    {
      "cell_type": "code",
      "source": [
        "# del list\n",
        "\"\"\" if the below code shows\n",
        "TypeError: 'list' object is not callable is a classic Python gotcha.\n",
        "It means that somewhere in your code (before this cell),\n",
        "you overwrote the built-in list with something else\n",
        " (probably by doing something like this):\n",
        " \"\"\""
      ],
      "metadata": {
        "id": "0_K-9RrXAbQ3"
      },
      "execution_count": null,
      "outputs": []
    },
    {
      "cell_type": "code",
      "source": [
        "# Using Lambda\n",
        "# making a numpy array\n",
        "array1 = np.array([num for num in range(1,30)])\n",
        "\n",
        "print(\"Original array\")\n",
        "print(array1)"
      ],
      "metadata": {
        "id": "XXrpYsHb_t-O"
      },
      "execution_count": null,
      "outputs": []
    },
    {
      "cell_type": "code",
      "source": [
        "# using lambda to apply condition\n",
        "mylist = list(filter(lambda x: x > 15 and x % 3 == 0 and x % 10 != 0, array1))\n",
        "\n",
        "# Converting new list into numpy array\n",
        "array2 = np.array(mylist)\n",
        "print(\"New array\")\n",
        "print(array2)"
      ],
      "metadata": {
        "id": "Rbtodlob__Yp"
      },
      "execution_count": null,
      "outputs": []
    },
    {
      "cell_type": "code",
      "source": [
        "print(\"Using list comprehension for numpy filtering\")\n",
        "mylist1=[x for x in array1 if x%5==0]\n",
        "array2=np.array(mylist1)\n",
        "print(array2)"
      ],
      "metadata": {
        "id": "hDu4oNs_BbPm"
      },
      "execution_count": null,
      "outputs": []
    },
    {
      "cell_type": "code",
      "source": [],
      "metadata": {
        "id": "leAsmt8GBg8M"
      },
      "execution_count": null,
      "outputs": []
    },
    {
      "cell_type": "markdown",
      "source": [
        "Example_6_Filter_Two_D_array"
      ],
      "metadata": {
        "id": "MkW6jWxPGdgQ"
      }
    },
    {
      "cell_type": "code",
      "source": [
        "array1= np.arange(12).reshape(3,4)\n",
        "print(\"original array is\\n\")\n",
        "print(array1)\n",
        "result = array1[array1 > 5]"
      ],
      "metadata": {
        "id": "Dz9mz25jGeDU"
      },
      "execution_count": null,
      "outputs": []
    },
    {
      "cell_type": "code",
      "source": [
        "print(\"Filter values from array:\",result)\n",
        "result1=array1[(array1<10) & (array1%3==0)]\n",
        "print(result1)"
      ],
      "metadata": {
        "id": "ehpJQQnfGhb7"
      },
      "execution_count": null,
      "outputs": []
    },
    {
      "cell_type": "markdown",
      "source": [
        "Example_7_Filter_Two_D_array_different_axis"
      ],
      "metadata": {
        "id": "Y0xFnVMaGsZ6"
      }
    },
    {
      "cell_type": "code",
      "source": [
        "# axis=0 top to bottom\n",
        "# axis=1 left to right\n",
        "a = np.arange(12).reshape((3, 4))\n",
        "print(a)"
      ],
      "metadata": {
        "id": "goke4QDnGkoP"
      },
      "execution_count": null,
      "outputs": []
    },
    {
      "cell_type": "code",
      "source": [
        "\"\"\"\n",
        "np.all() method return True if all the values fulfills the condition.\n",
        "This return value maps with the original array to give the filtered values\n",
        "\n",
        ": means all rows\n",
        "\"\"\"\n",
        "\n",
        "print(a[:, np.all(a < 10, axis = 0)])\n"
      ],
      "metadata": {
        "id": "M7NA-HBoG6Ue"
      },
      "execution_count": null,
      "outputs": []
    },
    {
      "cell_type": "code",
      "source": [
        "\"\"\" np.any() method return true if any of the values fulfill the condition.\n",
        " This return value maps with the original array to give the filtered values.\n",
        " : means all the rows\n",
        " \"\"\"\n",
        "print(a[:,np.any(a < 10, axis = 0)])"
      ],
      "metadata": {
        "id": "koSEgih7G-J2"
      },
      "execution_count": null,
      "outputs": []
    },
    {
      "cell_type": "code",
      "source": [
        "\"\"\"\n",
        "axis=1 means left to right\n",
        ": here means all the columns\n",
        "\"\"\"\n",
        "print(a[:,np.any(a > 8, axis = 0)])"
      ],
      "metadata": {
        "id": "jUqOhIR3HASQ"
      },
      "execution_count": null,
      "outputs": []
    },
    {
      "cell_type": "code",
      "source": [
        "print(a[np.any(a < 10, axis = 1),:])"
      ],
      "metadata": {
        "id": "wAn1Rn0yHC7P"
      },
      "execution_count": null,
      "outputs": []
    },
    {
      "cell_type": "code",
      "source": [
        "print(a[np.all(a < 10, axis = 1),:])"
      ],
      "metadata": {
        "id": "gDmMZj-xHF1x"
      },
      "execution_count": null,
      "outputs": []
    },
    {
      "cell_type": "code",
      "source": [
        "print(\"selected rows\")\n",
        "print(a[1:3,np.any(a > 8, axis = 0)])   # 1 to 2 rows  , top to bottom\n"
      ],
      "metadata": {
        "id": "HlohU6HkHHif"
      },
      "execution_count": null,
      "outputs": []
    },
    {
      "cell_type": "code",
      "source": [
        "print(\"selected columns\")\n",
        "print(a[np.all(a < 10, axis = 1),:2])    # 0 to 1 columns , left to right"
      ],
      "metadata": {
        "id": "Pky7OBlYHJBm"
      },
      "execution_count": null,
      "outputs": []
    },
    {
      "cell_type": "code",
      "source": [],
      "metadata": {
        "id": "FtVk0002HONz"
      },
      "execution_count": null,
      "outputs": []
    },
    {
      "cell_type": "markdown",
      "source": [
        "# **Concate_Numpy**"
      ],
      "metadata": {
        "id": "6iSLbw2YMyND"
      }
    },
    {
      "cell_type": "markdown",
      "source": [
        "NumPy stack() vs concatenate()"
      ],
      "metadata": {
        "id": "JeGfkrjwM5iR"
      }
    },
    {
      "cell_type": "code",
      "source": [
        "\"\"\" NumPy stack() vs. concatenate()\n",
        "\n",
        "the concatenate() function joins elements of two arrays along an existing axis while the stack() function joins the two arrays along a new axis. This means when we use \"stack\",the resulting array will have one more dimension than the input arrays.\n",
        " \"\"\"\n",
        "import numpy as np\n",
        "\n",
        "a = np.array([1,2])\n",
        "b = np.array([3,4])\n",
        "\n",
        "c = np.concatenate((a,b)) # return 1-D array\n",
        "d = np.stack((a,b)) # return 2-D array\n",
        "print(\"concat output\")\n",
        "print(c)\n",
        "print(\"stack output\")\n",
        "print(d)"
      ],
      "metadata": {
        "id": "coFDb6TFM1xK"
      },
      "execution_count": null,
      "outputs": []
    },
    {
      "cell_type": "code",
      "source": [],
      "metadata": {
        "id": "9PMYjvW0NMQ2"
      },
      "execution_count": null,
      "outputs": []
    },
    {
      "cell_type": "markdown",
      "source": [
        "Concat 1d arrays"
      ],
      "metadata": {
        "id": "IFGg2NboNDux"
      }
    },
    {
      "cell_type": "code",
      "source": [
        "# concate 1 d arrays\n",
        "\n",
        "import numpy as np\n",
        "arr1=np.array([1,2,3])\n",
        "arr2=np.array([4,5,6])\n",
        "arr3=np.concatenate((arr1,arr2)) #  it will make one single array containing arr1 and arr2 values\n",
        "print(arr3)    #  [1 2 3 4 5 6]\n"
      ],
      "metadata": {
        "id": "e2KGhtNzNAkP"
      },
      "execution_count": null,
      "outputs": []
    },
    {
      "cell_type": "markdown",
      "source": [
        "concate and stack 2d arrays with axis=0"
      ],
      "metadata": {
        "id": "je7KdJisM9qg"
      }
    },
    {
      "cell_type": "code",
      "source": [
        "# concate and stack 2d arrays with axis=0\n",
        "# axis=0 means from top to bottom\n",
        "\n",
        "import numpy as np\n",
        "arr1=np.array([[1,2,3],[4,5,6]])\n",
        "arr2=np.array([[7,8,9],[10,11,12]])\n",
        "arr3=np.concatenate((arr1,arr2),axis=0) #  keep arr1 and arr2 one below other,and create 2d array\n",
        "print(\"output of concat\")\n",
        "print(arr3)\n",
        "\n",
        "\"\"\"\n",
        "[[ 1  2  3]\n",
        " [ 4  5  6]\n",
        " [ 7  8  9]\n",
        " [10 11 12]]\n",
        "\n",
        "\"\"\"\n",
        "print(\"dimension of new array after concat function is\\t\",arr3.ndim)\n",
        "print(\"shape of new array after concat function is\\t\",arr3.shape)\n",
        "print()"
      ],
      "metadata": {
        "id": "RnCYDLpAM7ZG"
      },
      "execution_count": null,
      "outputs": []
    },
    {
      "cell_type": "code",
      "source": [
        "\n",
        "print()\n",
        "print(\"output of stack\")\n",
        "arr4=np.stack((arr1,arr2),axis=0)    #  keep arr1 and arr2 one below other,and create 3d array\n",
        "print(arr4)\n",
        "\n",
        "\"\"\"\n",
        "[[[ 1  2  3]\n",
        "  [ 4  5  6]]\n",
        "\n",
        " [[ 7  8  9]\n",
        "  [10 11 12]]]\n",
        "\n",
        "\"\"\"\n",
        "print(\"dimension of new array after stack function is\\t\",arr4.ndim)\n",
        "print(\"shape of new array after stack function is\\t\",arr4.shape)\n"
      ],
      "metadata": {
        "id": "sLJnkkbXNwVB"
      },
      "execution_count": null,
      "outputs": []
    },
    {
      "cell_type": "markdown",
      "source": [
        "axis 2 not allowed in concat"
      ],
      "metadata": {
        "id": "0rj6Uy15NZsb"
      }
    },
    {
      "cell_type": "code",
      "source": [],
      "metadata": {
        "id": "VYiEJeCMNF7d"
      },
      "execution_count": null,
      "outputs": []
    },
    {
      "cell_type": "code",
      "source": [
        "# with stack\n",
        "# axis 0,1 and 2 all are possible for stack in the following case\n",
        "\n",
        "\n",
        "import numpy as np\n",
        "arr1=np.array([[1,2,3],\n",
        "               [4,5,6]])\n",
        "arr2=np.array([[7,8,9],\n",
        "               [10,11,12]])\n",
        "print(arr1.ndim)\n",
        "print(arr2.ndim)\n",
        "arr3=np.stack((arr1,arr2),axis=0)\n",
        "print(arr3)\n",
        "print(arr3.ndim)\n",
        "print(arr3.shape)\n",
        "print(\"*********\")\n",
        "arr3=np.stack((arr1,arr2),axis=1)\n",
        "print(arr3)\n",
        "print(arr3.ndim)\n",
        "print(arr3.shape)\n",
        "print(\"*********\")\n",
        "arr3=np.stack((arr1,arr2),axis=2)\n",
        "print(arr3)\n",
        "print(arr3.ndim)\n",
        "print(arr3.shape)\n",
        "\n",
        "\n"
      ],
      "metadata": {
        "id": "f-cZzaDdNekN"
      },
      "execution_count": null,
      "outputs": []
    },
    {
      "cell_type": "code",
      "source": [
        "# with concat\n",
        "\n",
        "\n",
        "arr1=np.array([[1,2,3],[4,5,6]])\n",
        "arr2=np.array([[7,8,9],[10,11,12]])\n",
        "\n",
        "in the above case\n",
        "\tnp.stack\n",
        "\t\taxis 0,axis 1 and axis 2 all are possible\n",
        "\n",
        "\tnp.concat\n",
        "\t\taxis 0 and axis 1 are possible\n",
        "\t\tbut axis 2 is not possible,it says\n",
        "\t\t\taxis 2 is out of bounds for array of dimension 2\n",
        "\twhy it is so?\n",
        "\n",
        "arr3=np.concatenate((arr1,arr2),axis=0)\n",
        "print(arr3)\n",
        "print(arr3.ndim)\n",
        "print(arr3.shape)\n",
        "\n",
        "\n",
        "[[ 1  2  3]\n",
        " [ 4  5  6]\n",
        " [ 7  8  9]\n",
        " [10 11 12]]\n",
        "\n",
        "\tdimension 2  [ does not change the dimension of the resulting array which is correct as per \"concat\" method ]\n",
        "\tshape - 4,3\n",
        "\n",
        "\n",
        "arr3=np.concatenate((arr1,arr2),axis=1)\n",
        "print(arr3)\n",
        "print(arr3.ndim)\n",
        "print(arr3.shape)\n",
        "\n",
        "[[ 1  2  3  7  8  9]\n",
        " [ 4  5  6 10 11 12]]\n",
        "\n",
        "\tdimension 2  [ does not change the dimension of the resulting array which is correct as per \"concat\" method ]\n",
        "\n",
        "\tshape - 2,6\n",
        "\n",
        "\n",
        "arr3=np.concatenate((arr1,arr2),axis=2) # it will not work, but let's assume it works. now let's see what is the side effect of this.\n",
        "print(arr3)\n",
        "print(arr3.ndim)\n",
        "print(arr3.shape)\n",
        "\n",
        "\n",
        "1  7\n",
        "2  8\n",
        "3  9\n",
        "\n",
        "4  10\n",
        "5  11\n",
        "6  12\n",
        "\n",
        "\tdimension 3  [ it will change the dimension of the resulting array which is not correct as per \"concat\" method. this should not happen that's why here \"axis-2\" gives error]\n",
        "\tshape - 2,3,2\n",
        "\n",
        "in short axis-2 always results into 3d array which concat never supports. Concat works with multiple 2d arrays but result is always the 2d array.\n",
        "\n"
      ],
      "metadata": {
        "id": "E2sqvySWOeFG"
      },
      "execution_count": null,
      "outputs": []
    }
  ]
}